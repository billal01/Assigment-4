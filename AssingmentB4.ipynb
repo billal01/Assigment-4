{
 "cells": [
  {
   "cell_type": "code",
   "execution_count": 2,
   "metadata": {},
   "outputs": [
    {
     "name": "stdout",
     "output_type": "stream",
     "text": [
      "Nodes of Krackhardt's graph:  \n",
      " [0, 1, 2, 3, 4, 5, 6, 7, 8, 9] \n",
      "\n",
      "Edges of krackhardt's graph:  \n",
      " [(0, 1), (0, 2), (0, 3), (0, 5), (1, 3), (1, 4), (1, 6), (2, 3), (2, 5), (3, 4), (3, 5), (3, 6), (4, 6), (5, 6), (5, 7), (6, 7), (7, 8), (8, 9)]\n"
     ]
    },
    {
     "ename": "NameError",
     "evalue": "name 'on' is not defined",
     "output_type": "error",
     "traceback": [
      "\u001b[1;31m---------------------------------------------------------------------------\u001b[0m",
      "\u001b[1;31mNameError\u001b[0m                                 Traceback (most recent call last)",
      "\u001b[1;32m<ipython-input-2-8aa3de83c94a>\u001b[0m in \u001b[0;36m<module>\u001b[1;34m\u001b[0m\n\u001b[0;32m     15\u001b[0m a1 = [(0,1), (0,2), (0,3), (0,5), (1,3), (1,4), (1,6), (2,3), (2,5), (3,\n\u001b[0;32m     16\u001b[0m 4), (3,5), (3,6), (4,6), (5,6), (5,7), (6,7), (7,8), (8,9)] #second opti\n\u001b[1;32m---> 17\u001b[1;33m \u001b[0mon\u001b[0m\u001b[1;33m\u001b[0m\u001b[1;33m\u001b[0m\u001b[0m\n\u001b[0m\u001b[0;32m     18\u001b[0m \u001b[0ma1\u001b[0m \u001b[1;33m=\u001b[0m \u001b[0mf\u001b[0m\u001b[1;33m.\u001b[0m\u001b[0medges\u001b[0m\u001b[1;33m(\u001b[0m\u001b[1;33m)\u001b[0m\u001b[1;33m\u001b[0m\u001b[1;33m\u001b[0m\u001b[0m\n\u001b[0;32m     19\u001b[0m \u001b[1;31m# Adding all the edges to the graph object\u001b[0m\u001b[1;33m\u001b[0m\u001b[1;33m\u001b[0m\u001b[1;33m\u001b[0m\u001b[0m\n",
      "\u001b[1;31mNameError\u001b[0m: name 'on' is not defined"
     ]
    }
   ],
   "source": [
    "import networkx as xy\n",
    "import matplotlib.pyplot as plo\n",
    "%matplotlib inline\n",
    "# the graph\n",
    "F = xy.Graph()\n",
    "f = xy.generators.small.krackhardt_kite_graph()\n",
    "print(\"Nodes of Krackhardt's graph: \",\"\\n\",f.nodes(),\"\\n\")\n",
    "print(\"Edges of krackhardt's graph: \",\"\\n\",f.edges())\n",
    "person = {2:\"Billal\" ,5:\"Hossain\", 7:\"Alim\", 8:\"Sawpon\", 9:\"Luna\", 6:\"Karim\", 4:\"Edward\", 1:\"Kamal\", 3:\"Jamal\", 0:\"Akmaal\"}\n",
    "person\n",
    "#we are making the graph object here\n",
    "F1 =xy.Graph()\n",
    " \n",
    "# first option we begins\n",
    "a1 = [(0,1), (0,2), (0,3), (0,5), (1,3), (1,4), (1,6), (2,3), (2,5), (3,\n",
    "4), (3,5), (3,6), (4,6), (5,6), (5,7), (6,7), (7,8), (8,9)] #second opti\n",
    "on\n",
    "a1 = f.edges()\n",
    "# Adding all the edges to the graph object\n",
    "F1.add_edges_from(a1)\n",
    "print(\"Edges named for network\",\"\\n\" ,F1.edges())\n",
    "M = xy.relabel_nodes(F1, person)\n",
    "print(\" Nodes named for network: \", \"\\n\", M.nodes())\n",
    "print(\" Edges named for network: \", \"\\n\", M.edges())\n",
    "xy.draw(M, with_labels =1)\n",
    "plo.show()"
   ]
  },
  {
   "cell_type": "code",
   "execution_count": null,
   "metadata": {},
   "outputs": [],
   "source": [
    " "
   ]
  },
  {
   "cell_type": "code",
   "execution_count": null,
   "metadata": {},
   "outputs": [],
   "source": []
  },
  {
   "cell_type": "code",
   "execution_count": null,
   "metadata": {},
   "outputs": [],
   "source": []
  },
  {
   "cell_type": "code",
   "execution_count": null,
   "metadata": {},
   "outputs": [],
   "source": []
  }
 ],
 "metadata": {
  "kernelspec": {
   "display_name": "Python 3",
   "language": "python",
   "name": "python3"
  },
  "language_info": {
   "codemirror_mode": {
    "name": "ipython",
    "version": 3
   },
   "file_extension": ".py",
   "mimetype": "text/x-python",
   "name": "python",
   "nbconvert_exporter": "python",
   "pygments_lexer": "ipython3",
   "version": "3.7.3"
  }
 },
 "nbformat": 4,
 "nbformat_minor": 2
}
